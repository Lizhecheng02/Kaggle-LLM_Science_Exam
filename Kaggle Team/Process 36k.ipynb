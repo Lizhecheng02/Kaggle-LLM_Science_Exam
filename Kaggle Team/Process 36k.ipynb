{
 "cells": [
  {
   "cell_type": "code",
   "execution_count": 1,
   "metadata": {},
   "outputs": [],
   "source": [
    "import pandas as pd"
   ]
  },
  {
   "cell_type": "code",
   "execution_count": 2,
   "metadata": {},
   "outputs": [
    {
     "name": "stdout",
     "output_type": "stream",
     "text": [
      "file path: ./raw dataset/13k_0915_test_context_0_6000.json\n",
      "file path: ./raw dataset/13k_0915_test_context_6000_last.json\n",
      "file path: ./raw dataset/23k_0917_test_context_0_6000.json\n",
      "file path: ./raw dataset/23k_0917_test_context_12000_18000.json\n",
      "file path: ./raw dataset/23k_0917_test_context_18000_last.json\n",
      "file path: ./raw dataset/23k_0917_test_context_6000_12000.json\n"
     ]
    },
    {
     "data": {
      "text/plain": [
       "(36454, 8)"
      ]
     },
     "execution_count": 2,
     "metadata": {},
     "output_type": "execute_result"
    }
   ],
   "source": [
    "import os\n",
    "\n",
    "df = pd.DataFrame()\n",
    "\n",
    "for filename in os.listdir(\"./raw dataset/\"):\n",
    "    if filename.startswith(\"13k_0915\") or filename.startswith(\"23k_0917\"):\n",
    "        print(\"file path:\", os.path.join(\"./raw dataset/\", filename))\n",
    "        tmp_df = pd.read_json(os.path.join(\"./raw dataset/\", filename))\n",
    "        df = pd.concat([df, tmp_df])\n",
    "\n",
    "df.shape"
   ]
  },
  {
   "cell_type": "code",
   "execution_count": 3,
   "metadata": {},
   "outputs": [
    {
     "data": {
      "text/plain": [
       "answer\n",
       "D    7432\n",
       "B    7319\n",
       "C    7245\n",
       "E    7238\n",
       "A    7220\n",
       "Name: count, dtype: int64"
      ]
     },
     "execution_count": 3,
     "metadata": {},
     "output_type": "execute_result"
    }
   ],
   "source": [
    "df[\"answer\"].value_counts()"
   ]
  },
  {
   "cell_type": "code",
   "execution_count": 4,
   "metadata": {},
   "outputs": [
    {
     "data": {
      "text/html": [
       "<div>\n",
       "<style scoped>\n",
       "    .dataframe tbody tr th:only-of-type {\n",
       "        vertical-align: middle;\n",
       "    }\n",
       "\n",
       "    .dataframe tbody tr th {\n",
       "        vertical-align: top;\n",
       "    }\n",
       "\n",
       "    .dataframe thead th {\n",
       "        text-align: right;\n",
       "    }\n",
       "</style>\n",
       "<table border=\"1\" class=\"dataframe\">\n",
       "  <thead>\n",
       "    <tr style=\"text-align: right;\">\n",
       "      <th></th>\n",
       "      <th>prompt</th>\n",
       "      <th>context</th>\n",
       "      <th>A</th>\n",
       "      <th>B</th>\n",
       "      <th>C</th>\n",
       "      <th>D</th>\n",
       "      <th>E</th>\n",
       "      <th>answer</th>\n",
       "    </tr>\n",
       "  </thead>\n",
       "  <tbody>\n",
       "    <tr>\n",
       "      <th>0</th>\n",
       "      <td>What are the possible causes of Opsoclonus myo...</td>\n",
       "      <td>Possible causes of opsoclonus include neurobla...</td>\n",
       "      <td>Genetic inheritance</td>\n",
       "      <td>Association with breast carcinoma or small-cel...</td>\n",
       "      <td>Association with neuroblastoma</td>\n",
       "      <td>Viral infection (St. Louis encephalitis, Chiku...</td>\n",
       "      <td>Association with Lyme disease</td>\n",
       "      <td>C</td>\n",
       "    </tr>\n",
       "    <tr>\n",
       "      <th>1</th>\n",
       "      <td>What are the treatment options for Opsoclonus ...</td>\n",
       "      <td>Treatment of myoclonus focuses on medications ...</td>\n",
       "      <td>Corticosteroids</td>\n",
       "      <td>ACTH</td>\n",
       "      <td>Chemotherapy for neuroblastoma</td>\n",
       "      <td>Rituximab</td>\n",
       "      <td>Intravenous Immunoglobulins (IVIg)</td>\n",
       "      <td>E</td>\n",
       "    </tr>\n",
       "    <tr>\n",
       "      <th>2</th>\n",
       "      <td>What is the radiographic appearance of osteopo...</td>\n",
       "      <td>Osteopoikilosis is a benign, autosomal dominan...</td>\n",
       "      <td>Small and regular white densities concentrated...</td>\n",
       "      <td>No white densities visible on the X-ray</td>\n",
       "      <td>Large and irregular white densities in a unifo...</td>\n",
       "      <td>Numerous white densities of similar size sprea...</td>\n",
       "      <td>Sparse white densities interspersed throughout...</td>\n",
       "      <td>D</td>\n",
       "    </tr>\n",
       "    <tr>\n",
       "      <th>3</th>\n",
       "      <td>How does osteopoikilosis differ from blastic m...</td>\n",
       "      <td>Another differentiating factor is age, with bl...</td>\n",
       "      <td>Osteopoikilosis presents with larger and more ...</td>\n",
       "      <td>Osteopoikilosis affects the ribs, spine, and s...</td>\n",
       "      <td>Blastic metastasis presents with numerous whit...</td>\n",
       "      <td>Osteopoikilosis affects older people, while bl...</td>\n",
       "      <td>Blastic metastasis presents with sparse white ...</td>\n",
       "      <td>E</td>\n",
       "    </tr>\n",
       "    <tr>\n",
       "      <th>4</th>\n",
       "      <td>What is the cause of osteopoikilosis?</td>\n",
       "      <td>It is one of the hereditary causes of osteoscl...</td>\n",
       "      <td>Infection</td>\n",
       "      <td>Cytoskeletal defects</td>\n",
       "      <td>Unknown</td>\n",
       "      <td>Genetic heritability</td>\n",
       "      <td>Exposure to radiation</td>\n",
       "      <td>D</td>\n",
       "    </tr>\n",
       "  </tbody>\n",
       "</table>\n",
       "</div>"
      ],
      "text/plain": [
       "                                              prompt   \n",
       "0  What are the possible causes of Opsoclonus myo...  \\\n",
       "1  What are the treatment options for Opsoclonus ...   \n",
       "2  What is the radiographic appearance of osteopo...   \n",
       "3  How does osteopoikilosis differ from blastic m...   \n",
       "4              What is the cause of osteopoikilosis?   \n",
       "\n",
       "                                             context   \n",
       "0  Possible causes of opsoclonus include neurobla...  \\\n",
       "1  Treatment of myoclonus focuses on medications ...   \n",
       "2  Osteopoikilosis is a benign, autosomal dominan...   \n",
       "3  Another differentiating factor is age, with bl...   \n",
       "4  It is one of the hereditary causes of osteoscl...   \n",
       "\n",
       "                                                   A   \n",
       "0                                Genetic inheritance  \\\n",
       "1                                    Corticosteroids   \n",
       "2  Small and regular white densities concentrated...   \n",
       "3  Osteopoikilosis presents with larger and more ...   \n",
       "4                                          Infection   \n",
       "\n",
       "                                                   B   \n",
       "0  Association with breast carcinoma or small-cel...  \\\n",
       "1                                               ACTH   \n",
       "2            No white densities visible on the X-ray   \n",
       "3  Osteopoikilosis affects the ribs, spine, and s...   \n",
       "4                               Cytoskeletal defects   \n",
       "\n",
       "                                                   C   \n",
       "0                     Association with neuroblastoma  \\\n",
       "1                     Chemotherapy for neuroblastoma   \n",
       "2  Large and irregular white densities in a unifo...   \n",
       "3  Blastic metastasis presents with numerous whit...   \n",
       "4                                            Unknown   \n",
       "\n",
       "                                                   D   \n",
       "0  Viral infection (St. Louis encephalitis, Chiku...  \\\n",
       "1                                          Rituximab   \n",
       "2  Numerous white densities of similar size sprea...   \n",
       "3  Osteopoikilosis affects older people, while bl...   \n",
       "4                               Genetic heritability   \n",
       "\n",
       "                                                   E answer  \n",
       "0                      Association with Lyme disease      C  \n",
       "1                 Intravenous Immunoglobulins (IVIg)      E  \n",
       "2  Sparse white densities interspersed throughout...      D  \n",
       "3  Blastic metastasis presents with sparse white ...      E  \n",
       "4                              Exposure to radiation      D  "
      ]
     },
     "execution_count": 4,
     "metadata": {},
     "output_type": "execute_result"
    }
   ],
   "source": [
    "df.head()"
   ]
  },
  {
   "cell_type": "code",
   "execution_count": 5,
   "metadata": {},
   "outputs": [
    {
     "data": {
      "text/plain": [
       "(0, 8)"
      ]
     },
     "execution_count": 5,
     "metadata": {},
     "output_type": "execute_result"
    }
   ],
   "source": [
    "df_with_nan = df[df.isna().any(axis=1)]\n",
    "df_with_nan.shape"
   ]
  },
  {
   "cell_type": "code",
   "execution_count": 6,
   "metadata": {},
   "outputs": [],
   "source": [
    "import regex as re\n",
    "\n",
    "\n",
    "def clean_string(s):\n",
    "    text = re.sub(r'#+', '', s)\n",
    "    text = re.sub(r'https?://\\S+|www\\.\\S+', '', text)\n",
    "    text = re.sub(r'[^\\x00-\\x7F]+', '', text)\n",
    "    text = re.sub(r'\\(\\)', '', text)\n",
    "    text = re.sub(r'\\s+', ' ', text).strip()\n",
    "    return text\n",
    "\n",
    "\n",
    "def use_sep(s):\n",
    "    text = re.sub(r'#####', '####', s)\n",
    "    text = re.sub(r'https?://\\S+|www\\.\\S+', '', text)\n",
    "    text = re.sub(r'[^\\x00-\\x7F]+', '', text)\n",
    "    text = re.sub(r'\\(\\)', '', text)\n",
    "    text = re.sub(r'\\s+', ' ', text).strip()\n",
    "    return text"
   ]
  },
  {
   "cell_type": "code",
   "execution_count": 7,
   "metadata": {},
   "outputs": [],
   "source": [
    "# df[\"context\"] = df[\"context\"].apply(clean_string)\n",
    "# df.to_json(\"./final dataset all/36k full no #.json\", orient=\"records\")"
   ]
  },
  {
   "cell_type": "code",
   "execution_count": 8,
   "metadata": {},
   "outputs": [],
   "source": [
    "df[\"context\"] = df[\"context\"].apply(use_sep)\n",
    "df.to_json(\"./final dataset all/36k full with #.json\", orient=\"records\")"
   ]
  }
 ],
 "metadata": {
  "kernelspec": {
   "display_name": "base",
   "language": "python",
   "name": "python3"
  },
  "language_info": {
   "codemirror_mode": {
    "name": "ipython",
    "version": 3
   },
   "file_extension": ".py",
   "mimetype": "text/x-python",
   "name": "python",
   "nbconvert_exporter": "python",
   "pygments_lexer": "ipython3",
   "version": "3.10.9"
  },
  "orig_nbformat": 4
 },
 "nbformat": 4,
 "nbformat_minor": 2
}
