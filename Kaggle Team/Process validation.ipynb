{
 "cells": [
  {
   "cell_type": "code",
   "execution_count": 1,
   "metadata": {},
   "outputs": [],
   "source": [
    "import pandas as pd"
   ]
  },
  {
   "cell_type": "code",
   "execution_count": 2,
   "metadata": {},
   "outputs": [
    {
     "data": {
      "text/plain": [
       "(200, 8)"
      ]
     },
     "execution_count": 2,
     "metadata": {},
     "output_type": "execute_result"
    }
   ],
   "source": [
    "df_200 = pd.read_json(\"./raw dataset/train_context.json\")\n",
    "df_200.shape"
   ]
  },
  {
   "cell_type": "code",
   "execution_count": 13,
   "metadata": {},
   "outputs": [],
   "source": [
    "import regex as re\n",
    "\n",
    "def clean_string(s):\n",
    "    text = re.sub(r'#+', '', s)\n",
    "    text = re.sub(r'https?://\\S+|www\\.\\S+', '', text)\n",
    "    text = re.sub(r'[^\\x00-\\x7F]+', '', text)\n",
    "    text = re.sub(r'\\(\\)', '', text)\n",
    "    text = re.sub(r'\\s+', ' ', text).strip()\n",
    "    return text\n",
    "\n",
    "def use_sep(s):\n",
    "    text = re.sub(r'#####', '####', s)\n",
    "    text = re.sub(r'https?://\\S+|www\\.\\S+', '', text)\n",
    "    text = re.sub(r'[^\\x00-\\x7F]+', '', text)\n",
    "    text = re.sub(r'\\(\\)', '', text)\n",
    "    text = re.sub(r'\\s+', ' ', text).strip()\n",
    "    return text"
   ]
  },
  {
   "cell_type": "code",
   "execution_count": 4,
   "metadata": {},
   "outputs": [],
   "source": [
    "# df_200[\"context\"] = df_200[\"context\"].apply(clean_string)\n",
    "# df_200.to_json(\"./final dataset/200 val no #.json\", orient=\"records\")"
   ]
  },
  {
   "cell_type": "code",
   "execution_count": 5,
   "metadata": {},
   "outputs": [],
   "source": [
    "df_200[\"context\"] = df_200[\"context\"].apply(use_sep)\n",
    "df_200.to_json(\"./final dataset/200 val with #.json\", orient=\"records\")"
   ]
  },
  {
   "cell_type": "code",
   "execution_count": 14,
   "metadata": {},
   "outputs": [],
   "source": [
    "import pandas as pd"
   ]
  },
  {
   "cell_type": "code",
   "execution_count": 15,
   "metadata": {},
   "outputs": [],
   "source": [
    "df_2k = pd.read_json(\"./raw dataset/valid_2k_context.json\")"
   ]
  },
  {
   "cell_type": "code",
   "execution_count": 16,
   "metadata": {},
   "outputs": [
    {
     "data": {
      "text/html": [
       "<div>\n",
       "<style scoped>\n",
       "    .dataframe tbody tr th:only-of-type {\n",
       "        vertical-align: middle;\n",
       "    }\n",
       "\n",
       "    .dataframe tbody tr th {\n",
       "        vertical-align: top;\n",
       "    }\n",
       "\n",
       "    .dataframe thead th {\n",
       "        text-align: right;\n",
       "    }\n",
       "</style>\n",
       "<table border=\"1\" class=\"dataframe\">\n",
       "  <thead>\n",
       "    <tr style=\"text-align: right;\">\n",
       "      <th></th>\n",
       "      <th>question</th>\n",
       "      <th>context</th>\n",
       "      <th>A</th>\n",
       "      <th>B</th>\n",
       "      <th>C</th>\n",
       "      <th>D</th>\n",
       "      <th>E</th>\n",
       "      <th>answer</th>\n",
       "    </tr>\n",
       "  </thead>\n",
       "  <tbody>\n",
       "    <tr>\n",
       "      <th>0</th>\n",
       "      <td>What is the function of ribs in most tetrapods?</td>\n",
       "      <td>In most tetrapods, ribs surround the chest, en...</td>\n",
       "      <td>To protect the lungs, heart, and other interna...</td>\n",
       "      <td>To provide support and protection for the enti...</td>\n",
       "      <td>To enable the lungs to expand and facilitate b...</td>\n",
       "      <td>To connect the vertebrae at the costovertebral...</td>\n",
       "      <td>To join the ribs to the sternum through costal...</td>\n",
       "      <td>C</td>\n",
       "    </tr>\n",
       "    <tr>\n",
       "      <th>1</th>\n",
       "      <td>How many pairs of ribs do humans usually have?</td>\n",
       "      <td>Humans usually have 24 ribs, in 12 pairs. 1 in...</td>\n",
       "      <td>12</td>\n",
       "      <td>24</td>\n",
       "      <td>7</td>\n",
       "      <td>500</td>\n",
       "      <td>2</td>\n",
       "      <td>B</td>\n",
       "    </tr>\n",
       "    <tr>\n",
       "      <th>2</th>\n",
       "      <td>What is the purpose of the costovertebral joints?</td>\n",
       "      <td>Ribs connect to vertebrae at the costovertebra...</td>\n",
       "      <td>To connect the ribs to the sternum</td>\n",
       "      <td>To protect the lungs, heart, and other interna...</td>\n",
       "      <td>To join the ribs to the vertebrae</td>\n",
       "      <td>To enable the lungs to expand and facilitate b...</td>\n",
       "      <td>To provide support and protection for the enti...</td>\n",
       "      <td>C</td>\n",
       "    </tr>\n",
       "    <tr>\n",
       "      <th>3</th>\n",
       "      <td>What is the general explanation for the enhanc...</td>\n",
       "      <td>For many tumors, it has been discovered associ...</td>\n",
       "      <td>Tumor cells stimulate the production of blood ...</td>\n",
       "      <td>Tumor cells lack effective lymphatic drainage.</td>\n",
       "      <td>Tumor cells have abnormal molecular and fluid ...</td>\n",
       "      <td>Tumor cells have impaired functional receptors...</td>\n",
       "      <td>Tumor cells have wide fenestrations in their e...</td>\n",
       "      <td>A</td>\n",
       "    </tr>\n",
       "    <tr>\n",
       "      <th>4</th>\n",
       "      <td>What are some pathophysiological factors that ...</td>\n",
       "      <td>For instance, bradykinin, nitric oxide / perox...</td>\n",
       "      <td>Bradykinin and nitric oxide/peroxynitrite.</td>\n",
       "      <td>Prostaglandins and tumor necrosis factor.</td>\n",
       "      <td>Vascular permeability factor (VEGF) and tumor ...</td>\n",
       "      <td>Nitric oxide/peroxynitrite and vascular permea...</td>\n",
       "      <td>Bradykinin and prostaglandins.</td>\n",
       "      <td>C</td>\n",
       "    </tr>\n",
       "  </tbody>\n",
       "</table>\n",
       "</div>"
      ],
      "text/plain": [
       "                                            question   \n",
       "0    What is the function of ribs in most tetrapods?  \\\n",
       "1     How many pairs of ribs do humans usually have?   \n",
       "2  What is the purpose of the costovertebral joints?   \n",
       "3  What is the general explanation for the enhanc...   \n",
       "4  What are some pathophysiological factors that ...   \n",
       "\n",
       "                                             context   \n",
       "0  In most tetrapods, ribs surround the chest, en...  \\\n",
       "1  Humans usually have 24 ribs, in 12 pairs. 1 in...   \n",
       "2  Ribs connect to vertebrae at the costovertebra...   \n",
       "3  For many tumors, it has been discovered associ...   \n",
       "4  For instance, bradykinin, nitric oxide / perox...   \n",
       "\n",
       "                                                   A   \n",
       "0  To protect the lungs, heart, and other interna...  \\\n",
       "1                                                 12   \n",
       "2                 To connect the ribs to the sternum   \n",
       "3  Tumor cells stimulate the production of blood ...   \n",
       "4         Bradykinin and nitric oxide/peroxynitrite.   \n",
       "\n",
       "                                                   B   \n",
       "0  To provide support and protection for the enti...  \\\n",
       "1                                                 24   \n",
       "2  To protect the lungs, heart, and other interna...   \n",
       "3     Tumor cells lack effective lymphatic drainage.   \n",
       "4          Prostaglandins and tumor necrosis factor.   \n",
       "\n",
       "                                                   C   \n",
       "0  To enable the lungs to expand and facilitate b...  \\\n",
       "1                                                  7   \n",
       "2                  To join the ribs to the vertebrae   \n",
       "3  Tumor cells have abnormal molecular and fluid ...   \n",
       "4  Vascular permeability factor (VEGF) and tumor ...   \n",
       "\n",
       "                                                   D   \n",
       "0  To connect the vertebrae at the costovertebral...  \\\n",
       "1                                                500   \n",
       "2  To enable the lungs to expand and facilitate b...   \n",
       "3  Tumor cells have impaired functional receptors...   \n",
       "4  Nitric oxide/peroxynitrite and vascular permea...   \n",
       "\n",
       "                                                   E answer  \n",
       "0  To join the ribs to the sternum through costal...      C  \n",
       "1                                                  2      B  \n",
       "2  To provide support and protection for the enti...      C  \n",
       "3  Tumor cells have wide fenestrations in their e...      A  \n",
       "4                     Bradykinin and prostaglandins.      C  "
      ]
     },
     "execution_count": 16,
     "metadata": {},
     "output_type": "execute_result"
    }
   ],
   "source": [
    "df_2k.head()"
   ]
  },
  {
   "cell_type": "code",
   "execution_count": 17,
   "metadata": {},
   "outputs": [
    {
     "data": {
      "text/html": [
       "<div>\n",
       "<style scoped>\n",
       "    .dataframe tbody tr th:only-of-type {\n",
       "        vertical-align: middle;\n",
       "    }\n",
       "\n",
       "    .dataframe tbody tr th {\n",
       "        vertical-align: top;\n",
       "    }\n",
       "\n",
       "    .dataframe thead th {\n",
       "        text-align: right;\n",
       "    }\n",
       "</style>\n",
       "<table border=\"1\" class=\"dataframe\">\n",
       "  <thead>\n",
       "    <tr style=\"text-align: right;\">\n",
       "      <th></th>\n",
       "      <th>prompt</th>\n",
       "      <th>context</th>\n",
       "      <th>A</th>\n",
       "      <th>B</th>\n",
       "      <th>C</th>\n",
       "      <th>D</th>\n",
       "      <th>E</th>\n",
       "      <th>answer</th>\n",
       "    </tr>\n",
       "  </thead>\n",
       "  <tbody>\n",
       "    <tr>\n",
       "      <th>0</th>\n",
       "      <td>What is the function of ribs in most tetrapods?</td>\n",
       "      <td>In most tetrapods, ribs surround the chest, en...</td>\n",
       "      <td>To protect the lungs, heart, and other interna...</td>\n",
       "      <td>To provide support and protection for the enti...</td>\n",
       "      <td>To enable the lungs to expand and facilitate b...</td>\n",
       "      <td>To connect the vertebrae at the costovertebral...</td>\n",
       "      <td>To join the ribs to the sternum through costal...</td>\n",
       "      <td>C</td>\n",
       "    </tr>\n",
       "    <tr>\n",
       "      <th>1</th>\n",
       "      <td>How many pairs of ribs do humans usually have?</td>\n",
       "      <td>Humans usually have 24 ribs, in 12 pairs. 1 in...</td>\n",
       "      <td>12</td>\n",
       "      <td>24</td>\n",
       "      <td>7</td>\n",
       "      <td>500</td>\n",
       "      <td>2</td>\n",
       "      <td>B</td>\n",
       "    </tr>\n",
       "    <tr>\n",
       "      <th>2</th>\n",
       "      <td>What is the purpose of the costovertebral joints?</td>\n",
       "      <td>Ribs connect to vertebrae at the costovertebra...</td>\n",
       "      <td>To connect the ribs to the sternum</td>\n",
       "      <td>To protect the lungs, heart, and other interna...</td>\n",
       "      <td>To join the ribs to the vertebrae</td>\n",
       "      <td>To enable the lungs to expand and facilitate b...</td>\n",
       "      <td>To provide support and protection for the enti...</td>\n",
       "      <td>C</td>\n",
       "    </tr>\n",
       "    <tr>\n",
       "      <th>3</th>\n",
       "      <td>What is the general explanation for the enhanc...</td>\n",
       "      <td>For many tumors, it has been discovered associ...</td>\n",
       "      <td>Tumor cells stimulate the production of blood ...</td>\n",
       "      <td>Tumor cells lack effective lymphatic drainage.</td>\n",
       "      <td>Tumor cells have abnormal molecular and fluid ...</td>\n",
       "      <td>Tumor cells have impaired functional receptors...</td>\n",
       "      <td>Tumor cells have wide fenestrations in their e...</td>\n",
       "      <td>A</td>\n",
       "    </tr>\n",
       "    <tr>\n",
       "      <th>4</th>\n",
       "      <td>What are some pathophysiological factors that ...</td>\n",
       "      <td>For instance, bradykinin, nitric oxide / perox...</td>\n",
       "      <td>Bradykinin and nitric oxide/peroxynitrite.</td>\n",
       "      <td>Prostaglandins and tumor necrosis factor.</td>\n",
       "      <td>Vascular permeability factor (VEGF) and tumor ...</td>\n",
       "      <td>Nitric oxide/peroxynitrite and vascular permea...</td>\n",
       "      <td>Bradykinin and prostaglandins.</td>\n",
       "      <td>C</td>\n",
       "    </tr>\n",
       "  </tbody>\n",
       "</table>\n",
       "</div>"
      ],
      "text/plain": [
       "                                              prompt   \n",
       "0    What is the function of ribs in most tetrapods?  \\\n",
       "1     How many pairs of ribs do humans usually have?   \n",
       "2  What is the purpose of the costovertebral joints?   \n",
       "3  What is the general explanation for the enhanc...   \n",
       "4  What are some pathophysiological factors that ...   \n",
       "\n",
       "                                             context   \n",
       "0  In most tetrapods, ribs surround the chest, en...  \\\n",
       "1  Humans usually have 24 ribs, in 12 pairs. 1 in...   \n",
       "2  Ribs connect to vertebrae at the costovertebra...   \n",
       "3  For many tumors, it has been discovered associ...   \n",
       "4  For instance, bradykinin, nitric oxide / perox...   \n",
       "\n",
       "                                                   A   \n",
       "0  To protect the lungs, heart, and other interna...  \\\n",
       "1                                                 12   \n",
       "2                 To connect the ribs to the sternum   \n",
       "3  Tumor cells stimulate the production of blood ...   \n",
       "4         Bradykinin and nitric oxide/peroxynitrite.   \n",
       "\n",
       "                                                   B   \n",
       "0  To provide support and protection for the enti...  \\\n",
       "1                                                 24   \n",
       "2  To protect the lungs, heart, and other interna...   \n",
       "3     Tumor cells lack effective lymphatic drainage.   \n",
       "4          Prostaglandins and tumor necrosis factor.   \n",
       "\n",
       "                                                   C   \n",
       "0  To enable the lungs to expand and facilitate b...  \\\n",
       "1                                                  7   \n",
       "2                  To join the ribs to the vertebrae   \n",
       "3  Tumor cells have abnormal molecular and fluid ...   \n",
       "4  Vascular permeability factor (VEGF) and tumor ...   \n",
       "\n",
       "                                                   D   \n",
       "0  To connect the vertebrae at the costovertebral...  \\\n",
       "1                                                500   \n",
       "2  To enable the lungs to expand and facilitate b...   \n",
       "3  Tumor cells have impaired functional receptors...   \n",
       "4  Nitric oxide/peroxynitrite and vascular permea...   \n",
       "\n",
       "                                                   E answer  \n",
       "0  To join the ribs to the sternum through costal...      C  \n",
       "1                                                  2      B  \n",
       "2  To provide support and protection for the enti...      C  \n",
       "3  Tumor cells have wide fenestrations in their e...      A  \n",
       "4                     Bradykinin and prostaglandins.      C  "
      ]
     },
     "execution_count": 17,
     "metadata": {},
     "output_type": "execute_result"
    }
   ],
   "source": [
    "df_2k.rename(columns={\"question\": \"prompt\"}, inplace=True)\n",
    "df_2k.head()"
   ]
  },
  {
   "cell_type": "code",
   "execution_count": 18,
   "metadata": {},
   "outputs": [
    {
     "data": {
      "text/plain": [
       "(2000, 8)"
      ]
     },
     "execution_count": 18,
     "metadata": {},
     "output_type": "execute_result"
    }
   ],
   "source": [
    "df_2k.shape"
   ]
  },
  {
   "cell_type": "code",
   "execution_count": 19,
   "metadata": {},
   "outputs": [],
   "source": [
    "# df_2k[\"context\"] = df_2k[\"context\"].apply(clean_string)\n",
    "# df_2k.to_json(\"./final dataset/2k val no #.json\", orient=\"records\")"
   ]
  },
  {
   "cell_type": "code",
   "execution_count": 20,
   "metadata": {},
   "outputs": [],
   "source": [
    "df_2k[\"context\"] = df_2k[\"context\"].apply(use_sep)\n",
    "df_2k.to_json(\"./final dataset/2k val with #.json\", orient=\"records\")"
   ]
  }
 ],
 "metadata": {
  "kernelspec": {
   "display_name": "base",
   "language": "python",
   "name": "python3"
  },
  "language_info": {
   "codemirror_mode": {
    "name": "ipython",
    "version": 3
   },
   "file_extension": ".py",
   "mimetype": "text/x-python",
   "name": "python",
   "nbconvert_exporter": "python",
   "pygments_lexer": "ipython3",
   "version": "3.10.9"
  },
  "orig_nbformat": 4
 },
 "nbformat": 4,
 "nbformat_minor": 2
}
