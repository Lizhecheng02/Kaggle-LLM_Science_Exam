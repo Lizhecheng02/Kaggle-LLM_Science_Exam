{
 "cells": [
  {
   "cell_type": "code",
   "execution_count": 1,
   "metadata": {},
   "outputs": [],
   "source": [
    "import pandas as pd"
   ]
  },
  {
   "cell_type": "code",
   "execution_count": 2,
   "metadata": {},
   "outputs": [
    {
     "name": "stdout",
     "output_type": "stream",
     "text": [
      "file path: ./raw dataset/test_context_0_5000.json\n",
      "file path: ./raw dataset/test_context_10000_15000.json\n",
      "file path: ./raw dataset/test_context_15000_20000.json\n",
      "file path: ./raw dataset/test_context_20000_21000.json\n",
      "file path: ./raw dataset/test_context_21000_29000.json\n",
      "file path: ./raw dataset/test_context_29000_37000.json\n",
      "file path: ./raw dataset/test_context_37000_43000.json\n",
      "file path: ./raw dataset/test_context_43000_50000.json\n",
      "file path: ./raw dataset/test_context_50000_56000.json\n",
      "file path: ./raw dataset/test_context_5000_10000.json\n",
      "file path: ./raw dataset/test_context_56000_last.json\n",
      "(60347, 8)\n"
     ]
    }
   ],
   "source": [
    "import os\n",
    "\n",
    "df = pd.DataFrame()\n",
    "\n",
    "for file_name in os.listdir(\"./raw dataset/\"):\n",
    "    if file_name.startswith(\"test_context\"):\n",
    "        print(\"file path:\", os.path.join(\"./raw dataset/\", file_name))\n",
    "        tmp_df = pd.read_json(os.path.join(\"./raw dataset/\", file_name))\n",
    "        df = pd.concat([df, tmp_df])\n",
    "\n",
    "print(df.shape)"
   ]
  },
  {
   "cell_type": "code",
   "execution_count": 3,
   "metadata": {},
   "outputs": [
    {
     "name": "stdout",
     "output_type": "stream",
     "text": [
      "(0, 8)\n"
     ]
    }
   ],
   "source": [
    "df_with_nan = df[df.isna().any(axis=1)]\n",
    "print(df_with_nan.shape)"
   ]
  },
  {
   "cell_type": "code",
   "execution_count": 4,
   "metadata": {},
   "outputs": [],
   "source": [
    "import regex as re\n",
    "\n",
    "def clean_string(s):\n",
    "    text = re.sub(r'#+', '', s)\n",
    "    text = re.sub(r'https?://\\S+|www\\.\\S+', '', text)\n",
    "    text = re.sub(r'[^\\x00-\\x7F]+', '', text)\n",
    "    text = re.sub(r'\\(\\)', '', text)\n",
    "    text = re.sub(r'\\s+', ' ', text).strip()\n",
    "    return text\n",
    "\n",
    "def use_sep(s):\n",
    "    text = re.sub(r'#####', '####', s)\n",
    "    text = re.sub(r'https?://\\S+|www\\.\\S+', '', text)\n",
    "    text = re.sub(r'[^\\x00-\\x7F]+', '', text)\n",
    "    text = re.sub(r'\\(\\)', '', text)\n",
    "    text = re.sub(r'\\s+', ' ', text).strip()\n",
    "    return text"
   ]
  },
  {
   "cell_type": "code",
   "execution_count": 5,
   "metadata": {},
   "outputs": [],
   "source": [
    "# df[\"context\"] = df[\"context\"].apply(clean_string)"
   ]
  },
  {
   "cell_type": "code",
   "execution_count": 6,
   "metadata": {},
   "outputs": [],
   "source": [
    "# df.to_json(\"./final dataset/60k full no #.json\", orient=\"records\")"
   ]
  },
  {
   "cell_type": "code",
   "execution_count": 7,
   "metadata": {},
   "outputs": [],
   "source": [
    "df[\"context\"] = df[\"context\"].apply(use_sep)"
   ]
  },
  {
   "cell_type": "code",
   "execution_count": 8,
   "metadata": {},
   "outputs": [],
   "source": [
    "df.to_json(\"./final dataset/60k full with #.json\", orient=\"records\")"
   ]
  }
 ],
 "metadata": {
  "kernelspec": {
   "display_name": "Python 3 (ipykernel)",
   "language": "python",
   "name": "python3"
  },
  "language_info": {
   "codemirror_mode": {
    "name": "ipython",
    "version": 3
   },
   "file_extension": ".py",
   "mimetype": "text/x-python",
   "name": "python",
   "nbconvert_exporter": "python",
   "pygments_lexer": "ipython3",
   "version": "3.10.9"
  }
 },
 "nbformat": 4,
 "nbformat_minor": 4
}
