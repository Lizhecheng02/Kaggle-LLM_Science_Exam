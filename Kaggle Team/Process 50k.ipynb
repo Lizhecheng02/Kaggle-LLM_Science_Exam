{
 "cells": [
  {
   "cell_type": "code",
   "execution_count": 1,
   "metadata": {},
   "outputs": [],
   "source": [
    "import pandas as pd"
   ]
  },
  {
   "cell_type": "code",
   "execution_count": 2,
   "metadata": {},
   "outputs": [
    {
     "name": "stdout",
     "output_type": "stream",
     "text": [
      "file path: ./raw dataset/50k\\test_context_0_6000.json\n",
      "file path: ./raw dataset/50k\\test_context_12000_18000.json\n",
      "file path: ./raw dataset/50k\\test_context_18000_24000.json\n",
      "file path: ./raw dataset/50k\\test_context_24000_30000.json\n",
      "file path: ./raw dataset/50k\\test_context_30000_36000.json\n",
      "file path: ./raw dataset/50k\\test_context_36000_42000.json\n",
      "file path: ./raw dataset/50k\\test_context_42000_48000.json\n",
      "file path: ./raw dataset/50k\\test_context_48000_last.json\n",
      "file path: ./raw dataset/50k\\test_context_6000_12000.json\n",
      "(51700, 8)\n"
     ]
    }
   ],
   "source": [
    "import os\n",
    "\n",
    "df = pd.DataFrame()\n",
    "\n",
    "for file_name in os.listdir(\"./raw dataset/50k\"):\n",
    "    if file_name.startswith(\"test_context\"):\n",
    "        print(\"file path:\", os.path.join(\"./raw dataset/50k\", file_name))\n",
    "        tmp_df = pd.read_json(os.path.join(\"./raw dataset/50k\", file_name))\n",
    "        df = pd.concat([df, tmp_df])\n",
    "\n",
    "print(df.shape)"
   ]
  },
  {
   "cell_type": "code",
   "execution_count": 3,
   "metadata": {},
   "outputs": [
    {
     "data": {
      "text/plain": [
       "answer\n",
       "A    10538\n",
       "B    10354\n",
       "E    10341\n",
       "C    10246\n",
       "D    10221\n",
       "Name: count, dtype: int64"
      ]
     },
     "execution_count": 3,
     "metadata": {},
     "output_type": "execute_result"
    }
   ],
   "source": [
    "import random\n",
    "\n",
    "df = df.reset_index(drop=True)\n",
    "df_shuffle = df.copy()\n",
    "\n",
    "\n",
    "def shuffle_answer(idx):\n",
    "    try:\n",
    "        tmp = ['A', 'B', 'C', 'D', 'E']\n",
    "        random.shuffle(tmp)\n",
    "        hm = {k: v for k, v in zip(['A', 'B', 'C', 'D', 'E'], tmp)}\n",
    "        hm_b = {v: k for k, v in zip(['A', 'B', 'C', 'D', 'E'], tmp)}\n",
    "        df_shuffle.loc[idx, ['A', 'B', 'C', 'D', 'E']] = [\n",
    "            df.loc[idx, hm[k]] for k in ['A', 'B', 'C', 'D', 'E']]\n",
    "        df_shuffle.loc[idx, 'answer'] = hm_b[df.loc[idx, 'answer']]\n",
    "    except:\n",
    "        print(\"Error!\")\n",
    "\n",
    "\n",
    "for i in range(len(df_shuffle)):\n",
    "    shuffle_answer(i)\n",
    "\n",
    "df = df_shuffle.copy()\n",
    "df[\"answer\"].value_counts()"
   ]
  },
  {
   "cell_type": "code",
   "execution_count": 4,
   "metadata": {},
   "outputs": [
    {
     "name": "stdout",
     "output_type": "stream",
     "text": [
      "(0, 8)\n"
     ]
    }
   ],
   "source": [
    "df_with_nan = df[df.isna().any(axis=1)]\n",
    "print(df_with_nan.shape)"
   ]
  },
  {
   "cell_type": "code",
   "execution_count": 5,
   "metadata": {},
   "outputs": [],
   "source": [
    "import regex as re\n",
    "\n",
    "\n",
    "def clean_string(s):\n",
    "    text = re.sub(r'#+', '', s)\n",
    "    text = re.sub(r'https?://\\S+|www\\.\\S+', '', text)\n",
    "    text = re.sub(r'[^\\x00-\\x7F]+', '', text)\n",
    "    text = re.sub(r'\\(\\)', '', text)\n",
    "    text = re.sub(r'\\s+', ' ', text).strip()\n",
    "    return text\n",
    "\n",
    "\n",
    "def use_sep(s):\n",
    "    text = re.sub(r'#####', '####', s)\n",
    "    text = re.sub(r'https?://\\S+|www\\.\\S+', '', text)\n",
    "    text = re.sub(r'[^\\x00-\\x7F]+', '', text)\n",
    "    text = re.sub(r'\\(\\)', '', text)\n",
    "    text = re.sub(r'\\s+', ' ', text).strip()\n",
    "    return text"
   ]
  },
  {
   "cell_type": "code",
   "execution_count": 6,
   "metadata": {},
   "outputs": [
    {
     "data": {
      "text/html": [
       "<div>\n",
       "<style scoped>\n",
       "    .dataframe tbody tr th:only-of-type {\n",
       "        vertical-align: middle;\n",
       "    }\n",
       "\n",
       "    .dataframe tbody tr th {\n",
       "        vertical-align: top;\n",
       "    }\n",
       "\n",
       "    .dataframe thead th {\n",
       "        text-align: right;\n",
       "    }\n",
       "</style>\n",
       "<table border=\"1\" class=\"dataframe\">\n",
       "  <thead>\n",
       "    <tr style=\"text-align: right;\">\n",
       "      <th></th>\n",
       "      <th>prompt</th>\n",
       "      <th>context</th>\n",
       "      <th>A</th>\n",
       "      <th>B</th>\n",
       "      <th>C</th>\n",
       "      <th>D</th>\n",
       "      <th>E</th>\n",
       "      <th>answer</th>\n",
       "    </tr>\n",
       "  </thead>\n",
       "  <tbody>\n",
       "    <tr>\n",
       "      <th>0</th>\n",
       "      <td>What is topological Galois theory?</td>\n",
       "      <td>In mathematics, topological Galois theory is a...</td>\n",
       "      <td>A mathematical theory that originated from a t...</td>\n",
       "      <td>A mathematical theory that originated from a t...</td>\n",
       "      <td>A mathematical theory that originated from a t...</td>\n",
       "      <td>A mathematical theory that originated from a t...</td>\n",
       "      <td>A mathematical theory that originated from a t...</td>\n",
       "      <td>E</td>\n",
       "    </tr>\n",
       "    <tr>\n",
       "      <th>1</th>\n",
       "      <td>What is the main idea behind topological Galoi...</td>\n",
       "      <td>It connects many ideas from algebra to ideas i...</td>\n",
       "      <td>The main idea behind topological Galois theory...</td>\n",
       "      <td>The main idea behind topological Galois theory...</td>\n",
       "      <td>The main idea behind topological Galois theory...</td>\n",
       "      <td>The main idea behind topological Galois theory...</td>\n",
       "      <td>The main idea behind topological Galois theory...</td>\n",
       "      <td>B</td>\n",
       "    </tr>\n",
       "    <tr>\n",
       "      <th>2</th>\n",
       "      <td>What does topological Galois theory say about ...</td>\n",
       "      <td>As described in Khovanskii's book: \"According ...</td>\n",
       "      <td>According to topological Galois theory, the wa...</td>\n",
       "      <td>According to topological Galois theory, the wa...</td>\n",
       "      <td>According to topological Galois theory, the wa...</td>\n",
       "      <td>According to topological Galois theory, the wa...</td>\n",
       "      <td>According to topological Galois theory, the wa...</td>\n",
       "      <td>C</td>\n",
       "    </tr>\n",
       "    <tr>\n",
       "      <th>3</th>\n",
       "      <td>What kind of problems in mathematics is topolo...</td>\n",
       "      <td>In mathematics, topological Galois theory is a...</td>\n",
       "      <td>Topological Galois theory is concerned with pr...</td>\n",
       "      <td>Topological Galois theory is concerned with pr...</td>\n",
       "      <td>Topological Galois theory is concerned with pr...</td>\n",
       "      <td>Topological Galois theory is concerned with pr...</td>\n",
       "      <td>Topological Galois theory is concerned with pr...</td>\n",
       "      <td>D</td>\n",
       "    </tr>\n",
       "    <tr>\n",
       "      <th>4</th>\n",
       "      <td>What are the strongest known results on the un...</td>\n",
       "      <td>The strongest known results on the unexpressib...</td>\n",
       "      <td>The strongest known results on the unexpressib...</td>\n",
       "      <td>The strongest known results on the unexpressib...</td>\n",
       "      <td>The strongest known results on the unexpressib...</td>\n",
       "      <td>The strongest known results on the unexpressib...</td>\n",
       "      <td>The strongest known results on the unexpressib...</td>\n",
       "      <td>B</td>\n",
       "    </tr>\n",
       "  </tbody>\n",
       "</table>\n",
       "</div>"
      ],
      "text/plain": [
       "                                              prompt   \n",
       "0                 What is topological Galois theory?  \\\n",
       "1  What is the main idea behind topological Galoi...   \n",
       "2  What does topological Galois theory say about ...   \n",
       "3  What kind of problems in mathematics is topolo...   \n",
       "4  What are the strongest known results on the un...   \n",
       "\n",
       "                                             context   \n",
       "0  In mathematics, topological Galois theory is a...  \\\n",
       "1  It connects many ideas from algebra to ideas i...   \n",
       "2  As described in Khovanskii's book: \"According ...   \n",
       "3  In mathematics, topological Galois theory is a...   \n",
       "4  The strongest known results on the unexpressib...   \n",
       "\n",
       "                                                   A   \n",
       "0  A mathematical theory that originated from a t...  \\\n",
       "1  The main idea behind topological Galois theory...   \n",
       "2  According to topological Galois theory, the wa...   \n",
       "3  Topological Galois theory is concerned with pr...   \n",
       "4  The strongest known results on the unexpressib...   \n",
       "\n",
       "                                                   B   \n",
       "0  A mathematical theory that originated from a t...  \\\n",
       "1  The main idea behind topological Galois theory...   \n",
       "2  According to topological Galois theory, the wa...   \n",
       "3  Topological Galois theory is concerned with pr...   \n",
       "4  The strongest known results on the unexpressib...   \n",
       "\n",
       "                                                   C   \n",
       "0  A mathematical theory that originated from a t...  \\\n",
       "1  The main idea behind topological Galois theory...   \n",
       "2  According to topological Galois theory, the wa...   \n",
       "3  Topological Galois theory is concerned with pr...   \n",
       "4  The strongest known results on the unexpressib...   \n",
       "\n",
       "                                                   D   \n",
       "0  A mathematical theory that originated from a t...  \\\n",
       "1  The main idea behind topological Galois theory...   \n",
       "2  According to topological Galois theory, the wa...   \n",
       "3  Topological Galois theory is concerned with pr...   \n",
       "4  The strongest known results on the unexpressib...   \n",
       "\n",
       "                                                   E answer  \n",
       "0  A mathematical theory that originated from a t...      E  \n",
       "1  The main idea behind topological Galois theory...      B  \n",
       "2  According to topological Galois theory, the wa...      C  \n",
       "3  Topological Galois theory is concerned with pr...      D  \n",
       "4  The strongest known results on the unexpressib...      B  "
      ]
     },
     "execution_count": 6,
     "metadata": {},
     "output_type": "execute_result"
    }
   ],
   "source": [
    "df.head()"
   ]
  },
  {
   "cell_type": "code",
   "execution_count": 7,
   "metadata": {},
   "outputs": [],
   "source": [
    "# df[\"context\"] = df[\"context\"].apply(clean_string)\n",
    "# df.to_json(\"./final dataset all/50k full no #.json\", orient=\"records\")"
   ]
  },
  {
   "cell_type": "code",
   "execution_count": 8,
   "metadata": {},
   "outputs": [],
   "source": [
    "df[\"context\"] = df[\"context\"].apply(use_sep)\n",
    "df.to_json(\"./final dataset all/50k full with #.json\", orient=\"records\")"
   ]
  }
 ],
 "metadata": {
  "kernelspec": {
   "display_name": "Python 3 (ipykernel)",
   "language": "python",
   "name": "python3"
  },
  "language_info": {
   "codemirror_mode": {
    "name": "ipython",
    "version": 3
   },
   "file_extension": ".py",
   "mimetype": "text/x-python",
   "name": "python",
   "nbconvert_exporter": "python",
   "pygments_lexer": "ipython3",
   "version": "3.10.9"
  }
 },
 "nbformat": 4,
 "nbformat_minor": 4
}
