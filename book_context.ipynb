{
 "cells": [
  {
   "cell_type": "code",
   "execution_count": 1,
   "metadata": {},
   "outputs": [],
   "source": [
    "import PyPDF2"
   ]
  },
  {
   "cell_type": "code",
   "execution_count": 12,
   "metadata": {},
   "outputs": [
    {
     "name": "stdout",
     "output_type": "stream",
     "text": [
      "463040\n"
     ]
    }
   ],
   "source": [
    "def extract_text_from_pdf(file_path, start_page, end_page):\n",
    "    text = \"\"\n",
    "    with open(file_path, \"rb\") as file:\n",
    "        reader = PyPDF2.PdfReader(file)\n",
    "        \n",
    "        # 取 PDF 文件的前 num_pages 页\n",
    "        for i in range(start_page, end_page):\n",
    "            page = reader.pages[i]\n",
    "            text += page.extract_text()\n",
    "    return text\n",
    "\n",
    "file_path = \"./additional book dataset/Astronomy (Ian Ridpath, Dorling Kindersley Travel Staff) (Z-Library).pdf\"\n",
    "text = extract_text_from_pdf(file_path, start_page=10, end_page=275)\n",
    "print(len(text))"
   ]
  },
  {
   "cell_type": "code",
   "execution_count": 13,
   "metadata": {},
   "outputs": [],
   "source": [
    "from sentence_transformers import SentenceTransformer\n",
    "from transformers import AutoTokenizer\n",
    "\n",
    "model_name = \"sentence-transformers/all-MiniLM-L12-v2\"\n",
    "model = SentenceTransformer(model_name)\n",
    "tokenizer = AutoTokenizer.from_pretrained(model_name)\n",
    "\n",
    "def split_text_into_segments(text, max_length, stride, category):\n",
    "    tokens = tokenizer.tokenize(text)\n",
    "    segments = []\n",
    "    categories = []\n",
    "\n",
    "    start = 0\n",
    "    while start < len(tokens):\n",
    "        if start + max_length > len(tokens):\n",
    "            segment_tokens = tokens[start:]\n",
    "            segment = tokenizer.convert_tokens_to_string(segment_tokens)\n",
    "            segments.append(segment)\n",
    "            categories.append(category)\n",
    "            break\n",
    "        else:\n",
    "            end = start + max_length\n",
    "            segment_tokens = tokens[start:end]\n",
    "            segment = tokenizer.convert_tokens_to_string(segment_tokens)\n",
    "            segments.append(segment)\n",
    "            categories.append(category)\n",
    "            start = end - stride\n",
    "\n",
    "    return segments, categories"
   ]
  },
  {
   "cell_type": "code",
   "execution_count": 20,
   "metadata": {},
   "outputs": [
    {
     "name": "stdout",
     "output_type": "stream",
     "text": [
      "437 437\n"
     ]
    }
   ],
   "source": [
    "chunked_context = []\n",
    "corresponding_categories = []\n",
    "\n",
    "segments, categories = split_text_into_segments(text, 384, 128, \"addition\")\n",
    "chunked_context.extend(segments)\n",
    "corresponding_categories.extend(categories)\n",
    "\n",
    "print(len(chunked_context), len(corresponding_categories))"
   ]
  },
  {
   "cell_type": "code",
   "execution_count": 18,
   "metadata": {},
   "outputs": [
    {
     "name": "stdout",
     "output_type": "stream",
     "text": [
      "3212669\n"
     ]
    }
   ],
   "source": [
    "file_path = \"additional book dataset/Organic Chemistry (Jonathan Clayden Nick Greeves Stuart Warren) (Z-Library).pdf\"\n",
    "text2 = extract_text_from_pdf(file_path, start_page=27, end_page=1180)\n",
    "print(len(text2))"
   ]
  },
  {
   "cell_type": "code",
   "execution_count": 21,
   "metadata": {},
   "outputs": [
    {
     "name": "stdout",
     "output_type": "stream",
     "text": [
      "3684 3684\n"
     ]
    }
   ],
   "source": [
    "segments, categories = split_text_into_segments(text2, 384, 128, \"addition\")\n",
    "chunked_context.extend(segments)\n",
    "corresponding_categories.extend(categories)\n",
    "\n",
    "print(len(chunked_context), len(corresponding_categories))"
   ]
  }
 ],
 "metadata": {
  "kernelspec": {
   "display_name": "base",
   "language": "python",
   "name": "python3"
  },
  "language_info": {
   "codemirror_mode": {
    "name": "ipython",
    "version": 3
   },
   "file_extension": ".py",
   "mimetype": "text/x-python",
   "name": "python",
   "nbconvert_exporter": "python",
   "pygments_lexer": "ipython3",
   "version": "3.10.9"
  },
  "orig_nbformat": 4
 },
 "nbformat": 4,
 "nbformat_minor": 2
}
