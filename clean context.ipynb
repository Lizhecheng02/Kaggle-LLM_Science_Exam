{
 "cells": [
  {
   "cell_type": "code",
   "execution_count": 9,
   "id": "0d13b64d-9ec1-493d-a514-c9880bfcb8f0",
   "metadata": {},
   "outputs": [],
   "source": [
    "import pandas as pd\n",
    "import regex as re"
   ]
  },
  {
   "cell_type": "code",
   "execution_count": 2,
   "id": "9f6b5172-ea44-44bb-b8d3-8732e8223b17",
   "metadata": {},
   "outputs": [
    {
     "data": {
      "text/plain": [
       "'Eunice Fay McKenzie (February 19, 1918 – April 16, 2019) was an American actress and singer. She also entertained the troops with her former screen partner, Gene Autry. ===Later career=== After World War II, McKenzie retired from films to raise her two children. She was briefly billed as Fay Shannon. ==Biography== ===Early life and silent film=== McKenzie was born on February 19, 1918, in Hollywood, California, to show business parents, film actor Eva (née Heazlitt) and Irish American actor/director Robert McKenzie.Mike Fitzgerald, \"An Interview with ... She starred in silent films as a child, and then sound films as an adult, but perhaps she is best known for her leading roles opposite Gene Autry in the early 1940s in five horse opera features. Fay\\'s sister Ida Mae McKenzie, cousin Ella McKenzie, and brother-in-law Billy Gilbert, were also actors. McKenzie sang duets with Autry in each of these films. Ida Mae also played the character of Sarah Lincoln in The Dramatic Life of Abraham Lincoln, in the part of the film where she had become a teenager. ===Schooling=== In the mid-1920s, McKenzie took a ten-year break from acting in order to focus on her education. Her father had a stock company called the McKenzie Merry Makers, and was both an actor and director in stage productions and films. McKenzie later recalled, ===Sound films=== McKenzie appeared in numerous uncredited roles throughout the 1930s, with occasional credited roles in films such as The Boss Cowboy (1934) as Sally Nolan, and the anti-cannabis propaganda film Assassin of Youth (1937) as Linda Clayton. She later remembered: ===Theater and touring=== During World War II, McKenzie left Republic Pictures to work in theater and pursue other projects. McKenzie went on to appear in four additional Autry films as his leading lady: Sierra Sue (1941) as Sue Larrabee, Cowboy Serenade (1942) as Stephanie Lock, Heart of the Rio Grande (1942) as Alice Bennett, and Home in Wyomin\\' (1942) as Clementine Benson. Fay McKenzie\", Western Clippings. In 1938, she began to appear mainly in Western films, such as Ghost Town Riders (1938) as Molly Taylor (credited as Fay Shannon), and When the Daltons Rode (1940) as Hannah. Anne McKenzie (July 28, 1925 in Ceres, Cape Province, South Africa - July 23, 2014) was a South African Masters athlete pioneer, setting several world records as early as the 1960s. In 1940, McKenzie appeared in the stage show Meet the People, which premiered in Los Angeles and ended up on Broadway. ===Films with Gene Autry=== In 1941, the president of Republic Pictures, Herbert Yates, met McKenzie through a mutual friend, and after a screen test he signed her to a contract to appear opposite the cowboy singer Gene Autry in Down Mexico Way (1941) as Maria Elena Alvarado. She was also known for her collaborations with director Blake Edwards on five occasions. In 2018, McKenzie had a cameo appearance in the film \"Kill A Better Mousetrap,\" which resulted in her film appearances spanning 100 years. ==Personal life== McKenzie was married twice. Waitress 1940 When the Daltons Rode Hannah 1941 Dr. Kildare\\'s Wedding Day Nurse 1941 Down Mexico Way Maria Elena Alvarado 1941 Sierra Sue Sue Larrabee 1942 Cowboy Serenade Stephanie Lock 1942 Heart of the Rio Grande Alice Bennett 1942 Home in Wyomin\\' Clementine Benson 1942 Remember Pearl Harbor Marcia Porter 1944 The Singing Sheriff Caroline 1946 Murder in the Music Hall Singer in Mom\\'s Café 1946 Night and Day Singer 1959 -30- Mrs. Jason 1961 Breakfast at Tiffany\\'s Party Guest Laughing in Mirror 1962 Experiment in Terror Hospital Superintendent 1968 The Party Alice Clutterbuck 1981 S.O.B. Woman on the Beach 2018 Kill a Better Mousetrap ==See also== * List of centenarians (actors, filmmakers and entertainers) ==References== ==External links== * * * Fay McKenzie at the American Film Institute Category:1918 births Category:2019 deaths Category:American film actresses Category:American silent film actresses Category:American child actresses Category:Actresses from Greater Los Angeles Category:People from Hollywood, Los Angeles Category:American centenarians Category:20th-century American actresses Category:American Christian Scientists Category:Women centenarians Category:Western (genre) film actresses Category:American stage actresses Category:American people of Irish descent In the 1960s, McKenzie returned to film in Breakfast at Tiffany\\'s (1961) in a minor role and The Party (1968) as Alice Clutterbuck. Eunice Lulu Parsons (born August 4, 1916), also known as Eunice Jensen Parsons, is an American modernist artist known for her collages. '"
      ]
     },
     "execution_count": 2,
     "metadata": {},
     "output_type": "execute_result"
    }
   ],
   "source": [
    "df = pd.read_csv(\"./totaldataset/all_12_with_context2.csv\")\n",
    "df.loc[0, \"context\"]"
   ]
  },
  {
   "cell_type": "code",
   "execution_count": 10,
   "id": "03c89dce-9ed0-4a3c-8a87-623b55ef2381",
   "metadata": {},
   "outputs": [],
   "source": [
    "def clean_text(text):\n",
    "    text = re.sub(r'https?://\\S+|www\\.\\S+', '', text)\n",
    "    text = re.sub(r'={2,}.*?={2,}', '', text) \n",
    "    text = re.sub(r'\\*', '', text)\n",
    "    text = re.sub(r'[^\\x00-\\x7F]+', '', text)\n",
    "    text = re.sub(r'\\(\\)', '', text)\n",
    "    text = re.sub(r'\\s+', ' ', text)\n",
    "    return text"
   ]
  },
  {
   "cell_type": "code",
   "execution_count": 4,
   "id": "006ccf4b-0e81-44bf-bff4-8a89eb0ddb2c",
   "metadata": {},
   "outputs": [],
   "source": [
    "df = pd.read_csv(\"./totaldataset/all_12_with_context2.csv\")\n",
    "df['context'] = df['context'].apply(clean_text)\n",
    "df.to_parquet(\"./clean_dataset/clean_64k.parquet\")\n",
    "\n",
    "df = pd.read_csv(\"./totaldataset/train_with_context2.csv\")\n",
    "df['context'] = df['context'].apply(clean_text)\n",
    "df.to_parquet(\"./clean_dataset/clean_200.parquet\")"
   ]
  },
  {
   "cell_type": "code",
   "execution_count": null,
   "id": "b8d95d6f-65d8-4689-8300-46e5c3ff40ef",
   "metadata": {},
   "outputs": [
    {
     "data": {
      "text/plain": [
       "(40605, 9)"
      ]
     },
     "execution_count": 14,
     "metadata": {},
     "output_type": "execute_result"
    }
   ],
   "source": [
    "df = pd.read_csv(\"./totaldataset/all_12_with_context2.csv\")\n",
    "df = df.dropna()\n",
    "df = df.drop_duplicates(subset=['prompt'])\n",
    "df.shape"
   ]
  },
  {
   "cell_type": "code",
   "execution_count": 23,
   "id": "1f83b063-1559-4311-a65a-a60db93dbdc2",
   "metadata": {},
   "outputs": [],
   "source": [
    "import pandas as pd"
   ]
  },
  {
   "cell_type": "code",
   "execution_count": 24,
   "id": "307b49ca-be15-4e1a-ae7c-6b0b62cc5f1e",
   "metadata": {},
   "outputs": [
    {
     "data": {
      "text/plain": [
       "(627, 8)"
      ]
     },
     "execution_count": 24,
     "metadata": {},
     "output_type": "execute_result"
    }
   ],
   "source": [
    "df1 = pd.read_csv(\"./Science_data.csv\")\n",
    "df1.shape"
   ]
  },
  {
   "cell_type": "code",
   "execution_count": 25,
   "id": "7bf28193-da9d-4f2b-bdd5-a22fcd6f502a",
   "metadata": {},
   "outputs": [
    {
     "data": {
      "text/plain": [
       "(611, 8)"
      ]
     },
     "execution_count": 25,
     "metadata": {},
     "output_type": "execute_result"
    }
   ],
   "source": [
    "df2 = pd.read_csv(\"./claude2.csv\")\n",
    "df2.shape"
   ]
  },
  {
   "cell_type": "code",
   "execution_count": 26,
   "id": "c334a23b-8867-4ea8-8e1c-d247d671c547",
   "metadata": {},
   "outputs": [
    {
     "data": {
      "text/plain": [
       "(1238, 8)"
      ]
     },
     "execution_count": 26,
     "metadata": {},
     "output_type": "execute_result"
    }
   ],
   "source": [
    "df = pd.concat([df1, df2])\n",
    "df.shape"
   ]
  },
  {
   "cell_type": "code",
   "execution_count": 27,
   "id": "c418bd1c-5a1e-48aa-af27-4d432032e9de",
   "metadata": {},
   "outputs": [
    {
     "data": {
      "text/html": [
       "<div>\n",
       "<style scoped>\n",
       "    .dataframe tbody tr th:only-of-type {\n",
       "        vertical-align: middle;\n",
       "    }\n",
       "\n",
       "    .dataframe tbody tr th {\n",
       "        vertical-align: top;\n",
       "    }\n",
       "\n",
       "    .dataframe thead th {\n",
       "        text-align: right;\n",
       "    }\n",
       "</style>\n",
       "<table border=\"1\" class=\"dataframe\">\n",
       "  <thead>\n",
       "    <tr style=\"text-align: right;\">\n",
       "      <th></th>\n",
       "      <th>id</th>\n",
       "      <th>prompt</th>\n",
       "      <th>A</th>\n",
       "      <th>B</th>\n",
       "      <th>C</th>\n",
       "      <th>D</th>\n",
       "      <th>E</th>\n",
       "      <th>answer</th>\n",
       "    </tr>\n",
       "  </thead>\n",
       "  <tbody>\n",
       "    <tr>\n",
       "      <th>0</th>\n",
       "      <td>0</td>\n",
       "      <td>What is an exoplanet?</td>\n",
       "      <td>A planet located within our solar system</td>\n",
       "      <td>A planet that has been destroyed by a supernova</td>\n",
       "      <td>A planet that orbits around a star other than ...</td>\n",
       "      <td>A planet with no atmosphere</td>\n",
       "      <td>A planet made entirely of ice</td>\n",
       "      <td>C</td>\n",
       "    </tr>\n",
       "    <tr>\n",
       "      <th>1</th>\n",
       "      <td>1</td>\n",
       "      <td>What is CRISPR-Cas9?</td>\n",
       "      <td>A new element discovered in the periodic table</td>\n",
       "      <td>A gene-editing technology</td>\n",
       "      <td>A type of subatomic particle</td>\n",
       "      <td>A species of deep-sea creatures</td>\n",
       "      <td>A medical imaging technique</td>\n",
       "      <td>B</td>\n",
       "    </tr>\n",
       "    <tr>\n",
       "      <th>2</th>\n",
       "      <td>2</td>\n",
       "      <td>What is the Doppler effect?</td>\n",
       "      <td>The change in the pitch of a sound as a result...</td>\n",
       "      <td>The change in color of an object under differe...</td>\n",
       "      <td>The change in the apparent brightness of a sta...</td>\n",
       "      <td>The apparent bending of light when it passes t...</td>\n",
       "      <td>The shift in frequency of light or sound waves...</td>\n",
       "      <td>E</td>\n",
       "    </tr>\n",
       "    <tr>\n",
       "      <th>3</th>\n",
       "      <td>3</td>\n",
       "      <td>What is dark matter?</td>\n",
       "      <td>A form of matter with low density and high lum...</td>\n",
       "      <td>A type of matter that only exists in black holes</td>\n",
       "      <td>A theoretical form of matter that does not int...</td>\n",
       "      <td>A type of matter that emits visible light in t...</td>\n",
       "      <td>A type of matter found only in the deep ocean</td>\n",
       "      <td>C</td>\n",
       "    </tr>\n",
       "    <tr>\n",
       "      <th>4</th>\n",
       "      <td>4</td>\n",
       "      <td>What is the Uncertainty Principle?</td>\n",
       "      <td>The principle that states energy is conserved ...</td>\n",
       "      <td>The principle that describes the relationship ...</td>\n",
       "      <td>The principle that governs the motion of objec...</td>\n",
       "      <td>The principle that states it is impossible to ...</td>\n",
       "      <td>The principle that explains the formation of s...</td>\n",
       "      <td>D</td>\n",
       "    </tr>\n",
       "  </tbody>\n",
       "</table>\n",
       "</div>"
      ],
      "text/plain": [
       "   id                              prompt   \n",
       "0   0               What is an exoplanet?  \\\n",
       "1   1                What is CRISPR-Cas9?   \n",
       "2   2         What is the Doppler effect?   \n",
       "3   3                What is dark matter?   \n",
       "4   4  What is the Uncertainty Principle?   \n",
       "\n",
       "                                                   A   \n",
       "0           A planet located within our solar system  \\\n",
       "1     A new element discovered in the periodic table   \n",
       "2  The change in the pitch of a sound as a result...   \n",
       "3  A form of matter with low density and high lum...   \n",
       "4  The principle that states energy is conserved ...   \n",
       "\n",
       "                                                   B   \n",
       "0    A planet that has been destroyed by a supernova  \\\n",
       "1                          A gene-editing technology   \n",
       "2  The change in color of an object under differe...   \n",
       "3   A type of matter that only exists in black holes   \n",
       "4  The principle that describes the relationship ...   \n",
       "\n",
       "                                                   C   \n",
       "0  A planet that orbits around a star other than ...  \\\n",
       "1                       A type of subatomic particle   \n",
       "2  The change in the apparent brightness of a sta...   \n",
       "3  A theoretical form of matter that does not int...   \n",
       "4  The principle that governs the motion of objec...   \n",
       "\n",
       "                                                   D   \n",
       "0                        A planet with no atmosphere  \\\n",
       "1                    A species of deep-sea creatures   \n",
       "2  The apparent bending of light when it passes t...   \n",
       "3  A type of matter that emits visible light in t...   \n",
       "4  The principle that states it is impossible to ...   \n",
       "\n",
       "                                                   E answer  \n",
       "0                      A planet made entirely of ice      C  \n",
       "1                        A medical imaging technique      B  \n",
       "2  The shift in frequency of light or sound waves...      E  \n",
       "3      A type of matter found only in the deep ocean      C  \n",
       "4  The principle that explains the formation of s...      D  "
      ]
     },
     "execution_count": 27,
     "metadata": {},
     "output_type": "execute_result"
    }
   ],
   "source": [
    "df['id'] = range(len(df))\n",
    "df.head()"
   ]
  },
  {
   "cell_type": "code",
   "execution_count": 28,
   "id": "53321705-bd9d-42bd-ae0a-d255cc222400",
   "metadata": {},
   "outputs": [],
   "source": [
    "df = df.drop_duplicates(subset=['prompt', 'A', 'B', 'C', 'D', 'E'])\n",
    "df['id'] = range(len(df))\n",
    "df.shape\n",
    "df.to_csv(\"./additional_test.csv\", index=False)"
   ]
  },
  {
   "cell_type": "code",
   "execution_count": 29,
   "id": "b3cfa56c-b116-4fa2-853e-84a8d175e519",
   "metadata": {},
   "outputs": [
    {
     "data": {
      "text/html": [
       "<div>\n",
       "<style scoped>\n",
       "    .dataframe tbody tr th:only-of-type {\n",
       "        vertical-align: middle;\n",
       "    }\n",
       "\n",
       "    .dataframe tbody tr th {\n",
       "        vertical-align: top;\n",
       "    }\n",
       "\n",
       "    .dataframe thead th {\n",
       "        text-align: right;\n",
       "    }\n",
       "</style>\n",
       "<table border=\"1\" class=\"dataframe\">\n",
       "  <thead>\n",
       "    <tr style=\"text-align: right;\">\n",
       "      <th></th>\n",
       "      <th>prompt</th>\n",
       "      <th>context</th>\n",
       "      <th>A</th>\n",
       "      <th>B</th>\n",
       "      <th>C</th>\n",
       "      <th>D</th>\n",
       "      <th>E</th>\n",
       "      <th>answer</th>\n",
       "    </tr>\n",
       "  </thead>\n",
       "  <tbody>\n",
       "    <tr>\n",
       "      <th>0</th>\n",
       "      <td>What is an exoplanet?</td>\n",
       "      <td>An exoplanet or extrasolar planet is a planet ...</td>\n",
       "      <td>A planet located within our solar system</td>\n",
       "      <td>A planet that has been destroyed by a supernova</td>\n",
       "      <td>A planet that orbits around a star other than ...</td>\n",
       "      <td>A planet with no atmosphere</td>\n",
       "      <td>A planet made entirely of ice</td>\n",
       "      <td>C</td>\n",
       "    </tr>\n",
       "    <tr>\n",
       "      <th>1</th>\n",
       "      <td>What is CRISPR-Cas9?</td>\n",
       "      <td>Cas9 enzymes together with CRISPR sequences fo...</td>\n",
       "      <td>A new element discovered in the periodic table</td>\n",
       "      <td>A gene-editing technology</td>\n",
       "      <td>A type of subatomic particle</td>\n",
       "      <td>A species of deep-sea creatures</td>\n",
       "      <td>A medical imaging technique</td>\n",
       "      <td>B</td>\n",
       "    </tr>\n",
       "    <tr>\n",
       "      <th>2</th>\n",
       "      <td>What is the Doppler effect?</td>\n",
       "      <td>The Doppler effect or Doppler shift (or simply...</td>\n",
       "      <td>The change in the pitch of a sound as a result...</td>\n",
       "      <td>The change in color of an object under differe...</td>\n",
       "      <td>The change in the apparent brightness of a sta...</td>\n",
       "      <td>The apparent bending of light when it passes t...</td>\n",
       "      <td>The shift in frequency of light or sound waves...</td>\n",
       "      <td>E</td>\n",
       "    </tr>\n",
       "    <tr>\n",
       "      <th>3</th>\n",
       "      <td>What is dark matter?</td>\n",
       "      <td>In principle, \"dark matter\" means all componen...</td>\n",
       "      <td>A form of matter with low density and high lum...</td>\n",
       "      <td>A type of matter that only exists in black holes</td>\n",
       "      <td>A theoretical form of matter that does not int...</td>\n",
       "      <td>A type of matter that emits visible light in t...</td>\n",
       "      <td>A type of matter found only in the deep ocean</td>\n",
       "      <td>C</td>\n",
       "    </tr>\n",
       "    <tr>\n",
       "      <th>4</th>\n",
       "      <td>What is the Uncertainty Principle?</td>\n",
       "      <td>The uncertainty principle also says that elimi...</td>\n",
       "      <td>The principle that states energy is conserved ...</td>\n",
       "      <td>The principle that describes the relationship ...</td>\n",
       "      <td>The principle that governs the motion of objec...</td>\n",
       "      <td>The principle that states it is impossible to ...</td>\n",
       "      <td>The principle that explains the formation of s...</td>\n",
       "      <td>D</td>\n",
       "    </tr>\n",
       "  </tbody>\n",
       "</table>\n",
       "</div>"
      ],
      "text/plain": [
       "                               prompt   \n",
       "0               What is an exoplanet?  \\\n",
       "1                What is CRISPR-Cas9?   \n",
       "2         What is the Doppler effect?   \n",
       "3                What is dark matter?   \n",
       "4  What is the Uncertainty Principle?   \n",
       "\n",
       "                                             context   \n",
       "0  An exoplanet or extrasolar planet is a planet ...  \\\n",
       "1  Cas9 enzymes together with CRISPR sequences fo...   \n",
       "2  The Doppler effect or Doppler shift (or simply...   \n",
       "3  In principle, \"dark matter\" means all componen...   \n",
       "4  The uncertainty principle also says that elimi...   \n",
       "\n",
       "                                                   A   \n",
       "0           A planet located within our solar system  \\\n",
       "1     A new element discovered in the periodic table   \n",
       "2  The change in the pitch of a sound as a result...   \n",
       "3  A form of matter with low density and high lum...   \n",
       "4  The principle that states energy is conserved ...   \n",
       "\n",
       "                                                   B   \n",
       "0    A planet that has been destroyed by a supernova  \\\n",
       "1                          A gene-editing technology   \n",
       "2  The change in color of an object under differe...   \n",
       "3   A type of matter that only exists in black holes   \n",
       "4  The principle that describes the relationship ...   \n",
       "\n",
       "                                                   C   \n",
       "0  A planet that orbits around a star other than ...  \\\n",
       "1                       A type of subatomic particle   \n",
       "2  The change in the apparent brightness of a sta...   \n",
       "3  A theoretical form of matter that does not int...   \n",
       "4  The principle that governs the motion of objec...   \n",
       "\n",
       "                                                   D   \n",
       "0                        A planet with no atmosphere  \\\n",
       "1                    A species of deep-sea creatures   \n",
       "2  The apparent bending of light when it passes t...   \n",
       "3  A type of matter that emits visible light in t...   \n",
       "4  The principle that states it is impossible to ...   \n",
       "\n",
       "                                                   E answer  \n",
       "0                      A planet made entirely of ice      C  \n",
       "1                        A medical imaging technique      B  \n",
       "2  The shift in frequency of light or sound waves...      E  \n",
       "3      A type of matter found only in the deep ocean      C  \n",
       "4  The principle that explains the formation of s...      D  "
      ]
     },
     "execution_count": 29,
     "metadata": {},
     "output_type": "execute_result"
    }
   ],
   "source": [
    "df = pd.read_csv(\"./test_context.csv\")\n",
    "df_ans = pd.read_csv(\"./additional_test.csv\")\n",
    "ans = df_ans[\"answer\"].to_list()\n",
    "df['answer'] = ans\n",
    "df.head()"
   ]
  },
  {
   "cell_type": "code",
   "execution_count": 30,
   "id": "7147251c-d2f0-4a53-8da9-921d7d050ca2",
   "metadata": {},
   "outputs": [],
   "source": [
    "df.to_csv(\"./final_test.csv\", index=False)"
   ]
  },
  {
   "cell_type": "code",
   "execution_count": 31,
   "id": "98f7b912-a2bb-486a-a6df-bbea73b347b0",
   "metadata": {},
   "outputs": [],
   "source": [
    "df = pd.read_csv(\"./final_test.csv\")"
   ]
  },
  {
   "cell_type": "code",
   "execution_count": 34,
   "id": "7fb25f5e-7331-4ee6-9590-f6c3413c90b6",
   "metadata": {},
   "outputs": [
    {
     "data": {
      "text/plain": [
       "'A  '"
      ]
     },
     "execution_count": 34,
     "metadata": {},
     "output_type": "execute_result"
    }
   ],
   "source": [
    "df.loc[536]['answer']"
   ]
  },
  {
   "cell_type": "code",
   "execution_count": 35,
   "id": "bd49d729-0b18-4bdc-90ad-46f5a0db89d4",
   "metadata": {},
   "outputs": [],
   "source": [
    "for column in df.columns:\n",
    "    df[column] = df[column].astype(\"object\")"
   ]
  },
  {
   "cell_type": "code",
   "execution_count": 36,
   "id": "419e3637-5e29-440c-847d-0b97248e1a13",
   "metadata": {},
   "outputs": [
    {
     "data": {
      "text/plain": [
       "(1060, 8)"
      ]
     },
     "execution_count": 36,
     "metadata": {},
     "output_type": "execute_result"
    }
   ],
   "source": [
    "df = df.dropna()\n",
    "df.shape"
   ]
  },
  {
   "cell_type": "code",
   "execution_count": 37,
   "id": "e3e85100-52e0-4925-bd4b-a3e8dbc1ad8b",
   "metadata": {},
   "outputs": [],
   "source": [
    "df['answer'] = df['answer'].apply(lambda x: x.strip())"
   ]
  },
  {
   "cell_type": "code",
   "execution_count": 38,
   "id": "48470fd8-04ab-4dfe-aa73-fe1621e15d51",
   "metadata": {},
   "outputs": [
    {
     "data": {
      "text/plain": [
       "(1060, 8)"
      ]
     },
     "execution_count": 38,
     "metadata": {},
     "output_type": "execute_result"
    }
   ],
   "source": [
    "df.shape"
   ]
  },
  {
   "cell_type": "code",
   "execution_count": 39,
   "id": "f7adb176-cada-4b1c-9930-1757f1904a68",
   "metadata": {},
   "outputs": [],
   "source": [
    "df.to_csv(\"./final_test.csv\")"
   ]
  }
 ],
 "metadata": {
  "kernelspec": {
   "display_name": "Python 3 (ipykernel)",
   "language": "python",
   "name": "python3"
  },
  "language_info": {
   "codemirror_mode": {
    "name": "ipython",
    "version": 3
   },
   "file_extension": ".py",
   "mimetype": "text/x-python",
   "name": "python",
   "nbconvert_exporter": "python",
   "pygments_lexer": "ipython3",
   "version": "3.10.9"
  }
 },
 "nbformat": 4,
 "nbformat_minor": 5
}
