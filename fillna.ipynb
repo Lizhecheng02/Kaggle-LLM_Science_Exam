{
 "cells": [
  {
   "cell_type": "code",
   "execution_count": 1,
   "id": "228892e3-84a8-4288-a9c9-336d2fe990ab",
   "metadata": {},
   "outputs": [],
   "source": [
    "import pandas as pd\n",
    "import random\n",
    "from tqdm import tqdm\n",
    "import numpy as np"
   ]
  },
  {
   "cell_type": "code",
   "execution_count": 2,
   "id": "aa44bad3-3cb4-487a-8571-ad5d8a1b525e",
   "metadata": {},
   "outputs": [
    {
     "name": "stdout",
     "output_type": "stream",
     "text": [
      "(60347, 9)\n"
     ]
    }
   ],
   "source": [
    "train = pd.read_parquet(\"./clean_dataset/clean_60k.parquet\")\n",
    "print(train.shape)"
   ]
  },
  {
   "cell_type": "code",
   "execution_count": 3,
   "id": "e9ee9781-6a0d-4eab-9435-3fc27bbdc53c",
   "metadata": {},
   "outputs": [
    {
     "name": "stderr",
     "output_type": "stream",
     "text": [
      "100%|██████████████████████████████████████████████████████████████████████████| 60347/60347 [00:20<00:00, 2917.24it/s]\n"
     ]
    }
   ],
   "source": [
    "special_values = [None, np.nan, \"\"]\n",
    "\n",
    "for index, row in tqdm(train.iterrows(), total=len(train)):\n",
    "    if row.isna().any() == True:\n",
    "        column_names = [\"A\", \"B\", \"C\", \"D\", \"E\"]\n",
    "        for column_name in column_names:\n",
    "            value = train.loc[index, column_name]\n",
    "            if (value in special_values) | pd.isna(value) | pd.isnull(value) | (value is None):\n",
    "                answer = train.loc[index, \"answer\"]\n",
    "                column_names.remove(answer)\n",
    "                column_names.remove(column_name)\n",
    "                # print(column_names)\n",
    "                random_value1 = random.choice(column_names)\n",
    "                column_names.remove(random_value1)\n",
    "                \n",
    "                # print(random_value)\n",
    "                train.loc[index, column_name] = train.loc[index, random_value] + \" or \" + "
   ]
  },
  {
   "cell_type": "code",
   "execution_count": 4,
   "id": "03f50b8c-80e8-4ecd-9042-35a768fbf1ef",
   "metadata": {},
   "outputs": [
    {
     "name": "stdout",
     "output_type": "stream",
     "text": [
      "0\n"
     ]
    }
   ],
   "source": [
    "print(train.isnull().any(axis=1).sum())"
   ]
  },
  {
   "cell_type": "code",
   "execution_count": 5,
   "id": "92cbf686-276a-4c30-9a44-0e6ab7638bee",
   "metadata": {},
   "outputs": [],
   "source": [
    "train.to_parquet(\"./clean_dataset/fillna_clean_60k.parquet\")"
   ]
  }
 ],
 "metadata": {
  "kernelspec": {
   "display_name": "Python 3 (ipykernel)",
   "language": "python",
   "name": "python3"
  },
  "language_info": {
   "codemirror_mode": {
    "name": "ipython",
    "version": 3
   },
   "file_extension": ".py",
   "mimetype": "text/x-python",
   "name": "python",
   "nbconvert_exporter": "python",
   "pygments_lexer": "ipython3",
   "version": "3.10.9"
  }
 },
 "nbformat": 4,
 "nbformat_minor": 5
}
